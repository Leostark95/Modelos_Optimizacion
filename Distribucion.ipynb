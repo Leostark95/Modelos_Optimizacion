import pulp

# Definir el problema
problem = pulp.LpProblem("Minimizar_costo_transporte", pulp.LpMinimize)

# Datos: capacidades, demandas, costos, volúmenes
capacidades = {
    "Medellin": {"Papel": 1000000, "Servilletas": 400000, "Toallas": 200000},
    "Bogota": {"Papel": 1500000, "Servilletas": 100000, "Toallas": 50000}
}
volumen_caja = {"Papel": 0.04, "Servilletas": 0.02, "Toallas": 0.05}
demanda = {
    "Medellin": {"Papel": 500000, "Servilletas": 50000, "Toallas": 50000},
    "Bogota": {"Papel": 700000, "Servilletas": 100000, "Toallas": 150000},
    # Añadir más ciudades aquí...
}

# Variables de decisión: cajas enviadas desde cada planta a cada ciudad
x = pulp.LpVariable.dicts("Cajas", (capacidades.keys(), demanda.keys(), volumen_caja.keys()), 0, None, pulp.LpInteger)

# Función objetivo: minimizar costos de transporte
# Esto se calcularía con base en la distancia y costo por volumen transportado (asume costo/km)
problem += pulp.lpSum(x[planta][ciudad][producto] * volumen_caja[producto] for planta in capacidades for ciudad in demanda for producto in volumen_caja)

# Restricciones de capacidad de producción
for planta in capacidades:
    for producto in volumen_caja:
        problem += pulp.lpSum(x[planta][ciudad][producto] for ciudad in demanda) <= capacidades[planta][producto], f"Capacidad_{planta}_{producto}"

# Restricciones de demanda
for ciudad in demanda:
    for producto in volumen_caja:
        problem += pulp.lpSum(x[planta][ciudad][producto] for planta in capacidades) == demanda[ciudad][producto], f"Demanda_{ciudad}_{producto}"

# Resolver el problema
problem.solve()

# Resultados
for planta in capacidades:
    for ciudad in demanda:
        for producto in volumen_caja:
            print(f"{x[planta][ciudad][producto].varValue} cajas de {producto} de {planta} a {ciudad}")
